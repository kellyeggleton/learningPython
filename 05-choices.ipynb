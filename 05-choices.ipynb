{
 "cells": [
  {
   "cell_type": "markdown",
   "metadata": {},
   "source": [
    "making choices"
   ]
  },
  {
   "cell_type": "code",
   "execution_count": 1,
   "metadata": {
    "collapsed": false
   },
   "outputs": [
    {
     "name": "stdout",
     "output_type": "stream",
     "text": [
      "not so great\n",
      "Done!\n"
     ]
    }
   ],
   "source": [
    "num = 57\n",
    "if num > 100:\n",
    "    print(\"greater than 100\")\n",
    "else:\n",
    "    print(\"not so great\")\n",
    "print(\"Done!\")"
   ]
  },
  {
   "cell_type": "code",
   "execution_count": 3,
   "metadata": {
    "collapsed": false
   },
   "outputs": [
    {
     "name": "stdout",
     "output_type": "stream",
     "text": [
      "-3 is negative\n"
     ]
    }
   ],
   "source": [
    "num = -3\n",
    "if num > 0:\n",
    "    print(num, \"greater than zero\")\n",
    "elif num == 0:\n",
    "    print(\"neither poss nor neg\")\n",
    "else:\n",
    "    print(num, \"is negative\")"
   ]
  },
  {
   "cell_type": "code",
   "execution_count": 4,
   "metadata": {
    "collapsed": false
   },
   "outputs": [
    {
     "name": "stdout",
     "output_type": "stream",
     "text": [
      "At least one is false\n"
     ]
    }
   ],
   "source": [
    "if (1 > 0) and (-1 > 0):\n",
    "    print(\"Both true\")\n",
    "else:\n",
    "    print(\"At least one is false\")"
   ]
  },
  {
   "cell_type": "code",
   "execution_count": 8,
   "metadata": {
    "collapsed": false
   },
   "outputs": [],
   "source": [
    "import numpy\n",
    "\n",
    "data = numpy.loadtxt(fname='data/inflammation-05.csv', delimiter=',')\n"
   ]
  },
  {
   "cell_type": "code",
   "execution_count": 11,
   "metadata": {
    "collapsed": false
   },
   "outputs": [
    {
     "name": "stdout",
     "output_type": "stream",
     "text": [
      "Suspicious max\n",
      "Suspicious max\n",
      "Suspicious max\n",
      "Suspicious max\n",
      "Min adds up to zero\n",
      "Min adds up to zero\n",
      "Suspicious max\n",
      "Suspicious max\n",
      "Suspicious max\n",
      "Suspicious max\n",
      "Min adds up to zero\n",
      "Suspicious max\n"
     ]
    }
   ],
   "source": [
    "import glob\n",
    "\n",
    "filenames = (glob.glob('data/inflammation*.csv'))\n",
    "\n",
    "for file in filenames:\n",
    "    data = numpy.loadtxt(fname=file, delimiter=\",\")\n",
    "    if data.max(axis=0)[0] == 0 and data.max(axis=0)[20] == 20:\n",
    "        print(\"Suspicious max\")\n",
    "    elif data.min(axis=0).sum() ==0:\n",
    "        print(\"Min adds up to zero\")\n",
    "    else:\n",
    "        print(\"Seems OK\")"
   ]
  },
  {
   "cell_type": "code",
   "execution_count": 12,
   "metadata": {
    "collapsed": true
   },
   "outputs": [],
   "source": [
    "def celsius_to_kelvin(temp):\n",
    "    return temp + 273.15"
   ]
  },
  {
   "cell_type": "code",
   "execution_count": 14,
   "metadata": {
    "collapsed": false
   },
   "outputs": [
    {
     "name": "stdout",
     "output_type": "stream",
     "text": [
      "298.15\n"
     ]
    }
   ],
   "source": [
    "print(celsius_to_kelvin(25))"
   ]
  },
  {
   "cell_type": "code",
   "execution_count": 15,
   "metadata": {
    "collapsed": true
   },
   "outputs": [],
   "source": [
    "def fahr_to_cels(temp_f):\n",
    "    return (temp_f -32) * 5/9"
   ]
  },
  {
   "cell_type": "code",
   "execution_count": 16,
   "metadata": {
    "collapsed": false
   },
   "outputs": [
    {
     "name": "stdout",
     "output_type": "stream",
     "text": [
      "-17.77777777777778\n"
     ]
    }
   ],
   "source": [
    "print(fahr_to_cels(0))"
   ]
  },
  {
   "cell_type": "code",
   "execution_count": null,
   "metadata": {
    "collapsed": true
   },
   "outputs": [],
   "source": [
    "def fahr_to_kelvin(temp_f):\n",
    "    temp_c = fahr_to_cels(temp_f)\n",
    "    return celsius_to_kelvin(temp)"
   ]
  }
 ],
 "metadata": {
  "kernelspec": {
   "display_name": "Python 3",
   "language": "python",
   "name": "python3"
  },
  "language_info": {
   "codemirror_mode": {
    "name": "ipython",
    "version": 3
   },
   "file_extension": ".py",
   "mimetype": "text/x-python",
   "name": "python",
   "nbconvert_exporter": "python",
   "pygments_lexer": "ipython3",
   "version": "3.6.0"
  }
 },
 "nbformat": 4,
 "nbformat_minor": 2
}
